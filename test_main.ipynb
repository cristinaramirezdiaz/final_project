{
 "cells": [
  {
   "cell_type": "code",
   "execution_count": 2,
   "metadata": {},
   "outputs": [],
   "source": [
    "import pandas as pd\n",
    "import yfinance as yf\n",
    "from functions import *"
   ]
  },
  {
   "cell_type": "code",
   "execution_count": 14,
   "metadata": {},
   "outputs": [],
   "source": [
    "df_aapl = pd.read_csv('data/AAPL_historical_data.csv')\n",
    "df_amzn = pd.read_csv('data/AMZN_historical_data.csv')\n",
    "df_msft = pd.read_csv('data/MSFT_historical_data.csv')\n",
    "df_spy = pd.read_csv('data/SPY_historical_data.csv')\n",
    "df_vti = pd.read_csv('data/VTI_historical_data.csv')\n",
    "df_tlt = pd.read_csv('data/TLT_historical_data.csv')\n",
    "df_gld = pd.read_csv('data/GLD_historical_data.csv')\n",
    "df_btc = pd.read_csv('data/BTC-USD_historical_data.csv')\n",
    "df_baba = pd.read_csv('data/BABA_historical_data.csv')\n",
    "df_eem = pd.read_csv('data/EEM_historical_data.csv')\n",
    "df_shy = pd.read_csv('data/SHY_historical_data.csv')\n",
    "df_uso = pd.read_csv('data/USO_historical_data.csv')\n",
    "df_eth = pd.read_csv('data/ETH-USD_historical_data.csv')\n",
    "df_bsv = pd.read_csv('data/BSV_historical_data.csv')\n"
   ]
  },
  {
   "cell_type": "code",
   "execution_count": 4,
   "metadata": {},
   "outputs": [
    {
     "data": {
      "text/plain": [
       "0"
      ]
     },
     "execution_count": 4,
     "metadata": {},
     "output_type": "execute_result"
    }
   ],
   "source": [
    "df_aapl.duplicated().sum()"
   ]
  },
  {
   "cell_type": "code",
   "execution_count": 5,
   "metadata": {},
   "outputs": [
    {
     "data": {
      "text/plain": [
       "0"
      ]
     },
     "execution_count": 5,
     "metadata": {},
     "output_type": "execute_result"
    }
   ],
   "source": [
    "df_amzn.duplicated().sum()"
   ]
  },
  {
   "cell_type": "code",
   "execution_count": 6,
   "metadata": {},
   "outputs": [
    {
     "data": {
      "text/plain": [
       "0"
      ]
     },
     "execution_count": 6,
     "metadata": {},
     "output_type": "execute_result"
    }
   ],
   "source": [
    "df_msft.duplicated().sum()"
   ]
  },
  {
   "cell_type": "code",
   "execution_count": 7,
   "metadata": {},
   "outputs": [
    {
     "data": {
      "text/plain": [
       "0"
      ]
     },
     "execution_count": 7,
     "metadata": {},
     "output_type": "execute_result"
    }
   ],
   "source": [
    "df_spy.duplicated().sum()"
   ]
  },
  {
   "cell_type": "code",
   "execution_count": 8,
   "metadata": {},
   "outputs": [
    {
     "data": {
      "text/plain": [
       "0"
      ]
     },
     "execution_count": 8,
     "metadata": {},
     "output_type": "execute_result"
    }
   ],
   "source": [
    "df_vti.duplicated().sum()"
   ]
  },
  {
   "cell_type": "code",
   "execution_count": 9,
   "metadata": {},
   "outputs": [
    {
     "data": {
      "text/plain": [
       "0"
      ]
     },
     "execution_count": 9,
     "metadata": {},
     "output_type": "execute_result"
    }
   ],
   "source": [
    "df_tlt.duplicated().sum()"
   ]
  },
  {
   "cell_type": "code",
   "execution_count": 10,
   "metadata": {},
   "outputs": [
    {
     "data": {
      "text/plain": [
       "0"
      ]
     },
     "execution_count": 10,
     "metadata": {},
     "output_type": "execute_result"
    }
   ],
   "source": [
    "df_gld.duplicated().sum()"
   ]
  },
  {
   "cell_type": "code",
   "execution_count": 11,
   "metadata": {},
   "outputs": [
    {
     "data": {
      "text/plain": [
       "0"
      ]
     },
     "execution_count": 11,
     "metadata": {},
     "output_type": "execute_result"
    }
   ],
   "source": [
    "df_btc.duplicated().sum()"
   ]
  },
  {
   "cell_type": "code",
   "execution_count": 12,
   "metadata": {},
   "outputs": [
    {
     "data": {
      "text/html": [
       "<div>\n",
       "<style scoped>\n",
       "    .dataframe tbody tr th:only-of-type {\n",
       "        vertical-align: middle;\n",
       "    }\n",
       "\n",
       "    .dataframe tbody tr th {\n",
       "        vertical-align: top;\n",
       "    }\n",
       "\n",
       "    .dataframe thead th {\n",
       "        text-align: right;\n",
       "    }\n",
       "</style>\n",
       "<table border=\"1\" class=\"dataframe\">\n",
       "  <thead>\n",
       "    <tr style=\"text-align: right;\">\n",
       "      <th></th>\n",
       "      <th>Open</th>\n",
       "      <th>High</th>\n",
       "      <th>Low</th>\n",
       "      <th>Close</th>\n",
       "      <th>Adj Close</th>\n",
       "      <th>Volume</th>\n",
       "    </tr>\n",
       "    <tr>\n",
       "      <th>Date</th>\n",
       "      <th></th>\n",
       "      <th></th>\n",
       "      <th></th>\n",
       "      <th></th>\n",
       "      <th></th>\n",
       "      <th></th>\n",
       "    </tr>\n",
       "  </thead>\n",
       "  <tbody>\n",
       "    <tr>\n",
       "      <th>2022-10-14</th>\n",
       "      <td>144.309998</td>\n",
       "      <td>144.520004</td>\n",
       "      <td>138.190002</td>\n",
       "      <td>138.380005</td>\n",
       "      <td>136.863556</td>\n",
       "      <td>88598000</td>\n",
       "    </tr>\n",
       "    <tr>\n",
       "      <th>2022-10-17</th>\n",
       "      <td>141.070007</td>\n",
       "      <td>142.899994</td>\n",
       "      <td>140.270004</td>\n",
       "      <td>142.410004</td>\n",
       "      <td>140.849442</td>\n",
       "      <td>85250900</td>\n",
       "    </tr>\n",
       "    <tr>\n",
       "      <th>2022-10-18</th>\n",
       "      <td>145.490005</td>\n",
       "      <td>146.699997</td>\n",
       "      <td>140.610001</td>\n",
       "      <td>143.750000</td>\n",
       "      <td>142.174728</td>\n",
       "      <td>99136600</td>\n",
       "    </tr>\n",
       "    <tr>\n",
       "      <th>2022-10-19</th>\n",
       "      <td>141.690002</td>\n",
       "      <td>144.949997</td>\n",
       "      <td>141.500000</td>\n",
       "      <td>143.860001</td>\n",
       "      <td>142.283524</td>\n",
       "      <td>61758300</td>\n",
       "    </tr>\n",
       "    <tr>\n",
       "      <th>2022-10-20</th>\n",
       "      <td>143.020004</td>\n",
       "      <td>145.889999</td>\n",
       "      <td>142.649994</td>\n",
       "      <td>143.389999</td>\n",
       "      <td>141.818649</td>\n",
       "      <td>64522000</td>\n",
       "    </tr>\n",
       "    <tr>\n",
       "      <th>...</th>\n",
       "      <td>...</td>\n",
       "      <td>...</td>\n",
       "      <td>...</td>\n",
       "      <td>...</td>\n",
       "      <td>...</td>\n",
       "      <td>...</td>\n",
       "    </tr>\n",
       "    <tr>\n",
       "      <th>2024-10-09</th>\n",
       "      <td>62131.726562</td>\n",
       "      <td>62508.835938</td>\n",
       "      <td>60314.613281</td>\n",
       "      <td>60582.101562</td>\n",
       "      <td>60582.101562</td>\n",
       "      <td>27670982363</td>\n",
       "    </tr>\n",
       "    <tr>\n",
       "      <th>2024-10-10</th>\n",
       "      <td>60581.929688</td>\n",
       "      <td>61236.722656</td>\n",
       "      <td>58895.207031</td>\n",
       "      <td>60274.500000</td>\n",
       "      <td>60274.500000</td>\n",
       "      <td>30452813570</td>\n",
       "    </tr>\n",
       "    <tr>\n",
       "      <th>2024-10-11</th>\n",
       "      <td>60275.460938</td>\n",
       "      <td>63400.871094</td>\n",
       "      <td>60046.125000</td>\n",
       "      <td>62445.089844</td>\n",
       "      <td>62445.089844</td>\n",
       "      <td>30327141594</td>\n",
       "    </tr>\n",
       "    <tr>\n",
       "      <th>2024-10-12</th>\n",
       "      <td>62444.617188</td>\n",
       "      <td>63448.785156</td>\n",
       "      <td>62443.269531</td>\n",
       "      <td>63193.023438</td>\n",
       "      <td>63193.023438</td>\n",
       "      <td>16744110886</td>\n",
       "    </tr>\n",
       "    <tr>\n",
       "      <th>2024-10-13</th>\n",
       "      <td>63192.945312</td>\n",
       "      <td>63272.652344</td>\n",
       "      <td>62035.636719</td>\n",
       "      <td>62851.375000</td>\n",
       "      <td>62851.375000</td>\n",
       "      <td>18177529690</td>\n",
       "    </tr>\n",
       "  </tbody>\n",
       "</table>\n",
       "<p>4238 rows × 6 columns</p>\n",
       "</div>"
      ],
      "text/plain": [
       "                    Open          High           Low         Close  \\\n",
       "Date                                                                 \n",
       "2022-10-14    144.309998    144.520004    138.190002    138.380005   \n",
       "2022-10-17    141.070007    142.899994    140.270004    142.410004   \n",
       "2022-10-18    145.490005    146.699997    140.610001    143.750000   \n",
       "2022-10-19    141.690002    144.949997    141.500000    143.860001   \n",
       "2022-10-20    143.020004    145.889999    142.649994    143.389999   \n",
       "...                  ...           ...           ...           ...   \n",
       "2024-10-09  62131.726562  62508.835938  60314.613281  60582.101562   \n",
       "2024-10-10  60581.929688  61236.722656  58895.207031  60274.500000   \n",
       "2024-10-11  60275.460938  63400.871094  60046.125000  62445.089844   \n",
       "2024-10-12  62444.617188  63448.785156  62443.269531  63193.023438   \n",
       "2024-10-13  63192.945312  63272.652344  62035.636719  62851.375000   \n",
       "\n",
       "               Adj Close       Volume  \n",
       "Date                                   \n",
       "2022-10-14    136.863556     88598000  \n",
       "2022-10-17    140.849442     85250900  \n",
       "2022-10-18    142.174728     99136600  \n",
       "2022-10-19    142.283524     61758300  \n",
       "2022-10-20    141.818649     64522000  \n",
       "...                  ...          ...  \n",
       "2024-10-09  60582.101562  27670982363  \n",
       "2024-10-10  60274.500000  30452813570  \n",
       "2024-10-11  62445.089844  30327141594  \n",
       "2024-10-12  63193.023438  16744110886  \n",
       "2024-10-13  62851.375000  18177529690  \n",
       "\n",
       "[4238 rows x 6 columns]"
      ]
     },
     "execution_count": 12,
     "metadata": {},
     "output_type": "execute_result"
    }
   ],
   "source": [
    "df = pd.concat([df_aapl, df_amzn, df_msft, df_spy, df_vti, df_tlt, df_gld, df_btc], axis=0)\n",
    "\n",
    "df['Date'] = pd.to_datetime(df['Date'])\n",
    "df.set_index('Date', inplace=True)\n",
    "df"
   ]
  },
  {
   "cell_type": "code",
   "execution_count": 13,
   "metadata": {},
   "outputs": [
    {
     "data": {
      "text/plain": [
       "Open         0\n",
       "High         0\n",
       "Low          0\n",
       "Close        0\n",
       "Adj Close    0\n",
       "Volume       0\n",
       "dtype: int64"
      ]
     },
     "execution_count": 13,
     "metadata": {},
     "output_type": "execute_result"
    }
   ],
   "source": [
    "df.isnull().sum()   "
   ]
  },
  {
   "cell_type": "code",
   "execution_count": 15,
   "metadata": {},
   "outputs": [
    {
     "data": {
      "text/html": [
       "<div>\n",
       "<style scoped>\n",
       "    .dataframe tbody tr th:only-of-type {\n",
       "        vertical-align: middle;\n",
       "    }\n",
       "\n",
       "    .dataframe tbody tr th {\n",
       "        vertical-align: top;\n",
       "    }\n",
       "\n",
       "    .dataframe thead th {\n",
       "        text-align: right;\n",
       "    }\n",
       "</style>\n",
       "<table border=\"1\" class=\"dataframe\">\n",
       "  <thead>\n",
       "    <tr style=\"text-align: right;\">\n",
       "      <th></th>\n",
       "      <th>Date</th>\n",
       "      <th>Open</th>\n",
       "      <th>High</th>\n",
       "      <th>Low</th>\n",
       "      <th>Close</th>\n",
       "      <th>Adj Close</th>\n",
       "      <th>Volume</th>\n",
       "    </tr>\n",
       "  </thead>\n",
       "  <tbody>\n",
       "    <tr>\n",
       "      <th>0</th>\n",
       "      <td>2022-10-14</td>\n",
       "      <td>144.309998</td>\n",
       "      <td>144.520004</td>\n",
       "      <td>138.190002</td>\n",
       "      <td>138.380005</td>\n",
       "      <td>136.863571</td>\n",
       "      <td>88598000</td>\n",
       "    </tr>\n",
       "    <tr>\n",
       "      <th>1</th>\n",
       "      <td>2022-10-17</td>\n",
       "      <td>141.070007</td>\n",
       "      <td>142.899994</td>\n",
       "      <td>140.270004</td>\n",
       "      <td>142.410004</td>\n",
       "      <td>140.849380</td>\n",
       "      <td>85250900</td>\n",
       "    </tr>\n",
       "    <tr>\n",
       "      <th>2</th>\n",
       "      <td>2022-10-18</td>\n",
       "      <td>145.490005</td>\n",
       "      <td>146.699997</td>\n",
       "      <td>140.610001</td>\n",
       "      <td>143.750000</td>\n",
       "      <td>142.174713</td>\n",
       "      <td>99136600</td>\n",
       "    </tr>\n",
       "  </tbody>\n",
       "</table>\n",
       "</div>"
      ],
      "text/plain": [
       "         Date        Open        High         Low       Close   Adj Close  \\\n",
       "0  2022-10-14  144.309998  144.520004  138.190002  138.380005  136.863571   \n",
       "1  2022-10-17  141.070007  142.899994  140.270004  142.410004  140.849380   \n",
       "2  2022-10-18  145.490005  146.699997  140.610001  143.750000  142.174713   \n",
       "\n",
       "     Volume  \n",
       "0  88598000  \n",
       "1  85250900  \n",
       "2  99136600  "
      ]
     },
     "execution_count": 15,
     "metadata": {},
     "output_type": "execute_result"
    }
   ],
   "source": [
    "df_aapl.head(3)"
   ]
  },
  {
   "cell_type": "code",
   "execution_count": 16,
   "metadata": {},
   "outputs": [
    {
     "data": {
      "text/html": [
       "<div>\n",
       "<style scoped>\n",
       "    .dataframe tbody tr th:only-of-type {\n",
       "        vertical-align: middle;\n",
       "    }\n",
       "\n",
       "    .dataframe tbody tr th {\n",
       "        vertical-align: top;\n",
       "    }\n",
       "\n",
       "    .dataframe thead th {\n",
       "        text-align: right;\n",
       "    }\n",
       "</style>\n",
       "<table border=\"1\" class=\"dataframe\">\n",
       "  <thead>\n",
       "    <tr style=\"text-align: right;\">\n",
       "      <th></th>\n",
       "      <th>Date</th>\n",
       "      <th>Open</th>\n",
       "      <th>High</th>\n",
       "      <th>Low</th>\n",
       "      <th>Close</th>\n",
       "      <th>Adj Close</th>\n",
       "      <th>Volume</th>\n",
       "    </tr>\n",
       "  </thead>\n",
       "  <tbody>\n",
       "    <tr>\n",
       "      <th>0</th>\n",
       "      <td>2022-10-14</td>\n",
       "      <td>114.099998</td>\n",
       "      <td>114.959999</td>\n",
       "      <td>106.599998</td>\n",
       "      <td>106.900002</td>\n",
       "      <td>106.900002</td>\n",
       "      <td>67737300</td>\n",
       "    </tr>\n",
       "    <tr>\n",
       "      <th>1</th>\n",
       "      <td>2022-10-17</td>\n",
       "      <td>110.110001</td>\n",
       "      <td>114.190002</td>\n",
       "      <td>110.089996</td>\n",
       "      <td>113.790001</td>\n",
       "      <td>113.790001</td>\n",
       "      <td>62782000</td>\n",
       "    </tr>\n",
       "    <tr>\n",
       "      <th>2</th>\n",
       "      <td>2022-10-18</td>\n",
       "      <td>119.059998</td>\n",
       "      <td>119.519997</td>\n",
       "      <td>114.790001</td>\n",
       "      <td>116.360001</td>\n",
       "      <td>116.360001</td>\n",
       "      <td>65607400</td>\n",
       "    </tr>\n",
       "  </tbody>\n",
       "</table>\n",
       "</div>"
      ],
      "text/plain": [
       "         Date        Open        High         Low       Close   Adj Close  \\\n",
       "0  2022-10-14  114.099998  114.959999  106.599998  106.900002  106.900002   \n",
       "1  2022-10-17  110.110001  114.190002  110.089996  113.790001  113.790001   \n",
       "2  2022-10-18  119.059998  119.519997  114.790001  116.360001  116.360001   \n",
       "\n",
       "     Volume  \n",
       "0  67737300  \n",
       "1  62782000  \n",
       "2  65607400  "
      ]
     },
     "execution_count": 16,
     "metadata": {},
     "output_type": "execute_result"
    }
   ],
   "source": [
    "df_amzn.head(3)"
   ]
  },
  {
   "cell_type": "code",
   "execution_count": 17,
   "metadata": {},
   "outputs": [
    {
     "data": {
      "text/html": [
       "<div>\n",
       "<style scoped>\n",
       "    .dataframe tbody tr th:only-of-type {\n",
       "        vertical-align: middle;\n",
       "    }\n",
       "\n",
       "    .dataframe tbody tr th {\n",
       "        vertical-align: top;\n",
       "    }\n",
       "\n",
       "    .dataframe thead th {\n",
       "        text-align: right;\n",
       "    }\n",
       "</style>\n",
       "<table border=\"1\" class=\"dataframe\">\n",
       "  <thead>\n",
       "    <tr style=\"text-align: right;\">\n",
       "      <th></th>\n",
       "      <th>Date</th>\n",
       "      <th>Open</th>\n",
       "      <th>High</th>\n",
       "      <th>Low</th>\n",
       "      <th>Close</th>\n",
       "      <th>Adj Close</th>\n",
       "      <th>Volume</th>\n",
       "    </tr>\n",
       "  </thead>\n",
       "  <tbody>\n",
       "    <tr>\n",
       "      <th>0</th>\n",
       "      <td>2022-10-14</td>\n",
       "      <td>235.539993</td>\n",
       "      <td>237.240005</td>\n",
       "      <td>228.339996</td>\n",
       "      <td>228.559998</td>\n",
       "      <td>224.686539</td>\n",
       "      <td>30198600</td>\n",
       "    </tr>\n",
       "    <tr>\n",
       "      <th>1</th>\n",
       "      <td>2022-10-17</td>\n",
       "      <td>235.820007</td>\n",
       "      <td>238.960007</td>\n",
       "      <td>235.139999</td>\n",
       "      <td>237.529999</td>\n",
       "      <td>233.504547</td>\n",
       "      <td>28142300</td>\n",
       "    </tr>\n",
       "    <tr>\n",
       "      <th>2</th>\n",
       "      <td>2022-10-18</td>\n",
       "      <td>243.240005</td>\n",
       "      <td>243.929993</td>\n",
       "      <td>235.369995</td>\n",
       "      <td>238.500000</td>\n",
       "      <td>234.458084</td>\n",
       "      <td>26329600</td>\n",
       "    </tr>\n",
       "  </tbody>\n",
       "</table>\n",
       "</div>"
      ],
      "text/plain": [
       "         Date        Open        High         Low       Close   Adj Close  \\\n",
       "0  2022-10-14  235.539993  237.240005  228.339996  228.559998  224.686539   \n",
       "1  2022-10-17  235.820007  238.960007  235.139999  237.529999  233.504547   \n",
       "2  2022-10-18  243.240005  243.929993  235.369995  238.500000  234.458084   \n",
       "\n",
       "     Volume  \n",
       "0  30198600  \n",
       "1  28142300  \n",
       "2  26329600  "
      ]
     },
     "execution_count": 17,
     "metadata": {},
     "output_type": "execute_result"
    }
   ],
   "source": [
    "df_msft.head(3)"
   ]
  },
  {
   "cell_type": "code",
   "execution_count": 18,
   "metadata": {},
   "outputs": [
    {
     "data": {
      "text/html": [
       "<div>\n",
       "<style scoped>\n",
       "    .dataframe tbody tr th:only-of-type {\n",
       "        vertical-align: middle;\n",
       "    }\n",
       "\n",
       "    .dataframe tbody tr th {\n",
       "        vertical-align: top;\n",
       "    }\n",
       "\n",
       "    .dataframe thead th {\n",
       "        text-align: right;\n",
       "    }\n",
       "</style>\n",
       "<table border=\"1\" class=\"dataframe\">\n",
       "  <thead>\n",
       "    <tr style=\"text-align: right;\">\n",
       "      <th></th>\n",
       "      <th>Date</th>\n",
       "      <th>Open</th>\n",
       "      <th>High</th>\n",
       "      <th>Low</th>\n",
       "      <th>Close</th>\n",
       "      <th>Adj Close</th>\n",
       "      <th>Volume</th>\n",
       "    </tr>\n",
       "  </thead>\n",
       "  <tbody>\n",
       "    <tr>\n",
       "      <th>0</th>\n",
       "      <td>2022-10-14</td>\n",
       "      <td>368.549988</td>\n",
       "      <td>370.260010</td>\n",
       "      <td>356.959991</td>\n",
       "      <td>357.630005</td>\n",
       "      <td>347.389771</td>\n",
       "      <td>123737000</td>\n",
       "    </tr>\n",
       "    <tr>\n",
       "      <th>1</th>\n",
       "      <td>2022-10-17</td>\n",
       "      <td>364.010010</td>\n",
       "      <td>367.980011</td>\n",
       "      <td>357.279999</td>\n",
       "      <td>366.820007</td>\n",
       "      <td>356.316650</td>\n",
       "      <td>93168200</td>\n",
       "    </tr>\n",
       "    <tr>\n",
       "      <th>2</th>\n",
       "      <td>2022-10-18</td>\n",
       "      <td>375.130005</td>\n",
       "      <td>375.450012</td>\n",
       "      <td>367.519989</td>\n",
       "      <td>371.130005</td>\n",
       "      <td>360.503174</td>\n",
       "      <td>97162900</td>\n",
       "    </tr>\n",
       "  </tbody>\n",
       "</table>\n",
       "</div>"
      ],
      "text/plain": [
       "         Date        Open        High         Low       Close   Adj Close  \\\n",
       "0  2022-10-14  368.549988  370.260010  356.959991  357.630005  347.389771   \n",
       "1  2022-10-17  364.010010  367.980011  357.279999  366.820007  356.316650   \n",
       "2  2022-10-18  375.130005  375.450012  367.519989  371.130005  360.503174   \n",
       "\n",
       "      Volume  \n",
       "0  123737000  \n",
       "1   93168200  \n",
       "2   97162900  "
      ]
     },
     "execution_count": 18,
     "metadata": {},
     "output_type": "execute_result"
    }
   ],
   "source": [
    "df_spy.head(3)"
   ]
  },
  {
   "cell_type": "code",
   "execution_count": 19,
   "metadata": {},
   "outputs": [
    {
     "data": {
      "text/html": [
       "<div>\n",
       "<style scoped>\n",
       "    .dataframe tbody tr th:only-of-type {\n",
       "        vertical-align: middle;\n",
       "    }\n",
       "\n",
       "    .dataframe tbody tr th {\n",
       "        vertical-align: top;\n",
       "    }\n",
       "\n",
       "    .dataframe thead th {\n",
       "        text-align: right;\n",
       "    }\n",
       "</style>\n",
       "<table border=\"1\" class=\"dataframe\">\n",
       "  <thead>\n",
       "    <tr style=\"text-align: right;\">\n",
       "      <th></th>\n",
       "      <th>Date</th>\n",
       "      <th>Open</th>\n",
       "      <th>High</th>\n",
       "      <th>Low</th>\n",
       "      <th>Close</th>\n",
       "      <th>Adj Close</th>\n",
       "      <th>Volume</th>\n",
       "    </tr>\n",
       "  </thead>\n",
       "  <tbody>\n",
       "    <tr>\n",
       "      <th>0</th>\n",
       "      <td>2022-10-14</td>\n",
       "      <td>185.089996</td>\n",
       "      <td>185.990005</td>\n",
       "      <td>179.139999</td>\n",
       "      <td>179.419998</td>\n",
       "      <td>173.995087</td>\n",
       "      <td>3798800</td>\n",
       "    </tr>\n",
       "    <tr>\n",
       "      <th>1</th>\n",
       "      <td>2022-10-17</td>\n",
       "      <td>182.759995</td>\n",
       "      <td>184.809998</td>\n",
       "      <td>182.580002</td>\n",
       "      <td>184.210007</td>\n",
       "      <td>178.640259</td>\n",
       "      <td>4025800</td>\n",
       "    </tr>\n",
       "    <tr>\n",
       "      <th>2</th>\n",
       "      <td>2022-10-18</td>\n",
       "      <td>188.139999</td>\n",
       "      <td>188.699997</td>\n",
       "      <td>184.710007</td>\n",
       "      <td>186.460007</td>\n",
       "      <td>180.822235</td>\n",
       "      <td>3906800</td>\n",
       "    </tr>\n",
       "  </tbody>\n",
       "</table>\n",
       "</div>"
      ],
      "text/plain": [
       "         Date        Open        High         Low       Close   Adj Close  \\\n",
       "0  2022-10-14  185.089996  185.990005  179.139999  179.419998  173.995087   \n",
       "1  2022-10-17  182.759995  184.809998  182.580002  184.210007  178.640259   \n",
       "2  2022-10-18  188.139999  188.699997  184.710007  186.460007  180.822235   \n",
       "\n",
       "    Volume  \n",
       "0  3798800  \n",
       "1  4025800  \n",
       "2  3906800  "
      ]
     },
     "execution_count": 19,
     "metadata": {},
     "output_type": "execute_result"
    }
   ],
   "source": [
    "df_vti.head(3)"
   ]
  },
  {
   "cell_type": "code",
   "execution_count": 20,
   "metadata": {},
   "outputs": [
    {
     "data": {
      "text/html": [
       "<div>\n",
       "<style scoped>\n",
       "    .dataframe tbody tr th:only-of-type {\n",
       "        vertical-align: middle;\n",
       "    }\n",
       "\n",
       "    .dataframe tbody tr th {\n",
       "        vertical-align: top;\n",
       "    }\n",
       "\n",
       "    .dataframe thead th {\n",
       "        text-align: right;\n",
       "    }\n",
       "</style>\n",
       "<table border=\"1\" class=\"dataframe\">\n",
       "  <thead>\n",
       "    <tr style=\"text-align: right;\">\n",
       "      <th></th>\n",
       "      <th>Date</th>\n",
       "      <th>Open</th>\n",
       "      <th>High</th>\n",
       "      <th>Low</th>\n",
       "      <th>Close</th>\n",
       "      <th>Adj Close</th>\n",
       "      <th>Volume</th>\n",
       "    </tr>\n",
       "  </thead>\n",
       "  <tbody>\n",
       "    <tr>\n",
       "      <th>0</th>\n",
       "      <td>2022-10-14</td>\n",
       "      <td>100.190002</td>\n",
       "      <td>100.190002</td>\n",
       "      <td>98.250000</td>\n",
       "      <td>98.570000</td>\n",
       "      <td>91.818855</td>\n",
       "      <td>18728200</td>\n",
       "    </tr>\n",
       "    <tr>\n",
       "      <th>1</th>\n",
       "      <td>2022-10-17</td>\n",
       "      <td>99.290001</td>\n",
       "      <td>99.660004</td>\n",
       "      <td>97.940002</td>\n",
       "      <td>98.089996</td>\n",
       "      <td>91.371735</td>\n",
       "      <td>18969900</td>\n",
       "    </tr>\n",
       "    <tr>\n",
       "      <th>2</th>\n",
       "      <td>2022-10-18</td>\n",
       "      <td>97.949997</td>\n",
       "      <td>98.459999</td>\n",
       "      <td>96.870003</td>\n",
       "      <td>98.320000</td>\n",
       "      <td>91.585983</td>\n",
       "      <td>16931500</td>\n",
       "    </tr>\n",
       "  </tbody>\n",
       "</table>\n",
       "</div>"
      ],
      "text/plain": [
       "         Date        Open        High        Low      Close  Adj Close  \\\n",
       "0  2022-10-14  100.190002  100.190002  98.250000  98.570000  91.818855   \n",
       "1  2022-10-17   99.290001   99.660004  97.940002  98.089996  91.371735   \n",
       "2  2022-10-18   97.949997   98.459999  96.870003  98.320000  91.585983   \n",
       "\n",
       "     Volume  \n",
       "0  18728200  \n",
       "1  18969900  \n",
       "2  16931500  "
      ]
     },
     "execution_count": 20,
     "metadata": {},
     "output_type": "execute_result"
    }
   ],
   "source": [
    "df_tlt.head(3)"
   ]
  },
  {
   "cell_type": "code",
   "execution_count": 21,
   "metadata": {},
   "outputs": [
    {
     "data": {
      "text/html": [
       "<div>\n",
       "<style scoped>\n",
       "    .dataframe tbody tr th:only-of-type {\n",
       "        vertical-align: middle;\n",
       "    }\n",
       "\n",
       "    .dataframe tbody tr th {\n",
       "        vertical-align: top;\n",
       "    }\n",
       "\n",
       "    .dataframe thead th {\n",
       "        text-align: right;\n",
       "    }\n",
       "</style>\n",
       "<table border=\"1\" class=\"dataframe\">\n",
       "  <thead>\n",
       "    <tr style=\"text-align: right;\">\n",
       "      <th></th>\n",
       "      <th>Date</th>\n",
       "      <th>Open</th>\n",
       "      <th>High</th>\n",
       "      <th>Low</th>\n",
       "      <th>Close</th>\n",
       "      <th>Adj Close</th>\n",
       "      <th>Volume</th>\n",
       "    </tr>\n",
       "  </thead>\n",
       "  <tbody>\n",
       "    <tr>\n",
       "      <th>0</th>\n",
       "      <td>2022-10-14</td>\n",
       "      <td>154.020004</td>\n",
       "      <td>154.199997</td>\n",
       "      <td>152.720001</td>\n",
       "      <td>152.979996</td>\n",
       "      <td>152.979996</td>\n",
       "      <td>5471900</td>\n",
       "    </tr>\n",
       "    <tr>\n",
       "      <th>1</th>\n",
       "      <td>2022-10-17</td>\n",
       "      <td>154.919998</td>\n",
       "      <td>155.330002</td>\n",
       "      <td>153.320007</td>\n",
       "      <td>153.419998</td>\n",
       "      <td>153.419998</td>\n",
       "      <td>4348000</td>\n",
       "    </tr>\n",
       "    <tr>\n",
       "      <th>2</th>\n",
       "      <td>2022-10-18</td>\n",
       "      <td>154.080002</td>\n",
       "      <td>154.240005</td>\n",
       "      <td>153.240005</td>\n",
       "      <td>153.750000</td>\n",
       "      <td>153.750000</td>\n",
       "      <td>4528400</td>\n",
       "    </tr>\n",
       "  </tbody>\n",
       "</table>\n",
       "</div>"
      ],
      "text/plain": [
       "         Date        Open        High         Low       Close   Adj Close  \\\n",
       "0  2022-10-14  154.020004  154.199997  152.720001  152.979996  152.979996   \n",
       "1  2022-10-17  154.919998  155.330002  153.320007  153.419998  153.419998   \n",
       "2  2022-10-18  154.080002  154.240005  153.240005  153.750000  153.750000   \n",
       "\n",
       "    Volume  \n",
       "0  5471900  \n",
       "1  4348000  \n",
       "2  4528400  "
      ]
     },
     "execution_count": 21,
     "metadata": {},
     "output_type": "execute_result"
    }
   ],
   "source": [
    "df_gld.head(3)"
   ]
  },
  {
   "cell_type": "code",
   "execution_count": 22,
   "metadata": {},
   "outputs": [
    {
     "data": {
      "text/html": [
       "<div>\n",
       "<style scoped>\n",
       "    .dataframe tbody tr th:only-of-type {\n",
       "        vertical-align: middle;\n",
       "    }\n",
       "\n",
       "    .dataframe tbody tr th {\n",
       "        vertical-align: top;\n",
       "    }\n",
       "\n",
       "    .dataframe thead th {\n",
       "        text-align: right;\n",
       "    }\n",
       "</style>\n",
       "<table border=\"1\" class=\"dataframe\">\n",
       "  <thead>\n",
       "    <tr style=\"text-align: right;\">\n",
       "      <th></th>\n",
       "      <th>Date</th>\n",
       "      <th>Open</th>\n",
       "      <th>High</th>\n",
       "      <th>Low</th>\n",
       "      <th>Close</th>\n",
       "      <th>Adj Close</th>\n",
       "      <th>Volume</th>\n",
       "    </tr>\n",
       "  </thead>\n",
       "  <tbody>\n",
       "    <tr>\n",
       "      <th>0</th>\n",
       "      <td>2022-10-14</td>\n",
       "      <td>19382.533203</td>\n",
       "      <td>19889.146484</td>\n",
       "      <td>19115.408203</td>\n",
       "      <td>19185.656250</td>\n",
       "      <td>19185.656250</td>\n",
       "      <td>38452356727</td>\n",
       "    </tr>\n",
       "    <tr>\n",
       "      <th>1</th>\n",
       "      <td>2022-10-15</td>\n",
       "      <td>19185.437500</td>\n",
       "      <td>19212.541016</td>\n",
       "      <td>19019.250000</td>\n",
       "      <td>19067.634766</td>\n",
       "      <td>19067.634766</td>\n",
       "      <td>16192235532</td>\n",
       "    </tr>\n",
       "    <tr>\n",
       "      <th>2</th>\n",
       "      <td>2022-10-16</td>\n",
       "      <td>19068.914062</td>\n",
       "      <td>19389.603516</td>\n",
       "      <td>19068.914062</td>\n",
       "      <td>19268.093750</td>\n",
       "      <td>19268.093750</td>\n",
       "      <td>17988916650</td>\n",
       "    </tr>\n",
       "  </tbody>\n",
       "</table>\n",
       "</div>"
      ],
      "text/plain": [
       "         Date          Open          High           Low         Close  \\\n",
       "0  2022-10-14  19382.533203  19889.146484  19115.408203  19185.656250   \n",
       "1  2022-10-15  19185.437500  19212.541016  19019.250000  19067.634766   \n",
       "2  2022-10-16  19068.914062  19389.603516  19068.914062  19268.093750   \n",
       "\n",
       "      Adj Close       Volume  \n",
       "0  19185.656250  38452356727  \n",
       "1  19067.634766  16192235532  \n",
       "2  19268.093750  17988916650  "
      ]
     },
     "execution_count": 22,
     "metadata": {},
     "output_type": "execute_result"
    }
   ],
   "source": [
    "df_btc.head(3)"
   ]
  },
  {
   "cell_type": "markdown",
   "metadata": {},
   "source": [
    "\n",
    "df_baba = pd.read_csv('data/BABA_historical_data.csv')\n",
    "df_eem = pd.read_csv('data/EEM_historical_data.csv')\n",
    "df_shy = pd.read_csv('data/SHY_historical_data.csv')\n",
    "df_uso = pd.read_csv('data/USO_historical_data.csv')\n",
    "df_eth = pd.read_csv('data/ETH-USD_historical_data.csv')\n",
    "df_bsv = pd.read_csv('data/BSV_historical_data.csv')"
   ]
  },
  {
   "cell_type": "code",
   "execution_count": 23,
   "metadata": {},
   "outputs": [
    {
     "data": {
      "text/html": [
       "<div>\n",
       "<style scoped>\n",
       "    .dataframe tbody tr th:only-of-type {\n",
       "        vertical-align: middle;\n",
       "    }\n",
       "\n",
       "    .dataframe tbody tr th {\n",
       "        vertical-align: top;\n",
       "    }\n",
       "\n",
       "    .dataframe thead th {\n",
       "        text-align: right;\n",
       "    }\n",
       "</style>\n",
       "<table border=\"1\" class=\"dataframe\">\n",
       "  <thead>\n",
       "    <tr style=\"text-align: right;\">\n",
       "      <th></th>\n",
       "      <th>Date</th>\n",
       "      <th>Open</th>\n",
       "      <th>High</th>\n",
       "      <th>Low</th>\n",
       "      <th>Close</th>\n",
       "      <th>Adj Close</th>\n",
       "      <th>Volume</th>\n",
       "    </tr>\n",
       "  </thead>\n",
       "  <tbody>\n",
       "    <tr>\n",
       "      <th>0</th>\n",
       "      <td>2022-10-14</td>\n",
       "      <td>76.050003</td>\n",
       "      <td>76.139999</td>\n",
       "      <td>72.779999</td>\n",
       "      <td>73.019997</td>\n",
       "      <td>70.518814</td>\n",
       "      <td>13675300</td>\n",
       "    </tr>\n",
       "    <tr>\n",
       "      <th>1</th>\n",
       "      <td>2022-10-17</td>\n",
       "      <td>75.150002</td>\n",
       "      <td>77.870003</td>\n",
       "      <td>75.110001</td>\n",
       "      <td>76.769997</td>\n",
       "      <td>74.140366</td>\n",
       "      <td>14487400</td>\n",
       "    </tr>\n",
       "    <tr>\n",
       "      <th>2</th>\n",
       "      <td>2022-10-18</td>\n",
       "      <td>78.010002</td>\n",
       "      <td>78.639999</td>\n",
       "      <td>75.059998</td>\n",
       "      <td>76.339996</td>\n",
       "      <td>73.725090</td>\n",
       "      <td>14970600</td>\n",
       "    </tr>\n",
       "  </tbody>\n",
       "</table>\n",
       "</div>"
      ],
      "text/plain": [
       "         Date       Open       High        Low      Close  Adj Close    Volume\n",
       "0  2022-10-14  76.050003  76.139999  72.779999  73.019997  70.518814  13675300\n",
       "1  2022-10-17  75.150002  77.870003  75.110001  76.769997  74.140366  14487400\n",
       "2  2022-10-18  78.010002  78.639999  75.059998  76.339996  73.725090  14970600"
      ]
     },
     "execution_count": 23,
     "metadata": {},
     "output_type": "execute_result"
    }
   ],
   "source": [
    "df_baba.head(3)"
   ]
  },
  {
   "cell_type": "code",
   "execution_count": 24,
   "metadata": {},
   "outputs": [
    {
     "data": {
      "text/html": [
       "<div>\n",
       "<style scoped>\n",
       "    .dataframe tbody tr th:only-of-type {\n",
       "        vertical-align: middle;\n",
       "    }\n",
       "\n",
       "    .dataframe tbody tr th {\n",
       "        vertical-align: top;\n",
       "    }\n",
       "\n",
       "    .dataframe thead th {\n",
       "        text-align: right;\n",
       "    }\n",
       "</style>\n",
       "<table border=\"1\" class=\"dataframe\">\n",
       "  <thead>\n",
       "    <tr style=\"text-align: right;\">\n",
       "      <th></th>\n",
       "      <th>Date</th>\n",
       "      <th>Open</th>\n",
       "      <th>High</th>\n",
       "      <th>Low</th>\n",
       "      <th>Close</th>\n",
       "      <th>Adj Close</th>\n",
       "      <th>Volume</th>\n",
       "    </tr>\n",
       "  </thead>\n",
       "  <tbody>\n",
       "    <tr>\n",
       "      <th>0</th>\n",
       "      <td>2022-10-14</td>\n",
       "      <td>34.950001</td>\n",
       "      <td>34.959999</td>\n",
       "      <td>34.180000</td>\n",
       "      <td>34.209999</td>\n",
       "      <td>32.588890</td>\n",
       "      <td>33384600</td>\n",
       "    </tr>\n",
       "    <tr>\n",
       "      <th>1</th>\n",
       "      <td>2022-10-17</td>\n",
       "      <td>34.910000</td>\n",
       "      <td>35.270000</td>\n",
       "      <td>34.910000</td>\n",
       "      <td>35.150002</td>\n",
       "      <td>33.484344</td>\n",
       "      <td>51122100</td>\n",
       "    </tr>\n",
       "    <tr>\n",
       "      <th>2</th>\n",
       "      <td>2022-10-18</td>\n",
       "      <td>35.490002</td>\n",
       "      <td>35.570000</td>\n",
       "      <td>34.900002</td>\n",
       "      <td>35.160000</td>\n",
       "      <td>33.493874</td>\n",
       "      <td>33911100</td>\n",
       "    </tr>\n",
       "  </tbody>\n",
       "</table>\n",
       "</div>"
      ],
      "text/plain": [
       "         Date       Open       High        Low      Close  Adj Close    Volume\n",
       "0  2022-10-14  34.950001  34.959999  34.180000  34.209999  32.588890  33384600\n",
       "1  2022-10-17  34.910000  35.270000  34.910000  35.150002  33.484344  51122100\n",
       "2  2022-10-18  35.490002  35.570000  34.900002  35.160000  33.493874  33911100"
      ]
     },
     "execution_count": 24,
     "metadata": {},
     "output_type": "execute_result"
    }
   ],
   "source": [
    "df_eem.head(3)"
   ]
  },
  {
   "cell_type": "code",
   "execution_count": 25,
   "metadata": {},
   "outputs": [
    {
     "data": {
      "text/html": [
       "<div>\n",
       "<style scoped>\n",
       "    .dataframe tbody tr th:only-of-type {\n",
       "        vertical-align: middle;\n",
       "    }\n",
       "\n",
       "    .dataframe tbody tr th {\n",
       "        vertical-align: top;\n",
       "    }\n",
       "\n",
       "    .dataframe thead th {\n",
       "        text-align: right;\n",
       "    }\n",
       "</style>\n",
       "<table border=\"1\" class=\"dataframe\">\n",
       "  <thead>\n",
       "    <tr style=\"text-align: right;\">\n",
       "      <th></th>\n",
       "      <th>Date</th>\n",
       "      <th>Open</th>\n",
       "      <th>High</th>\n",
       "      <th>Low</th>\n",
       "      <th>Close</th>\n",
       "      <th>Adj Close</th>\n",
       "      <th>Volume</th>\n",
       "    </tr>\n",
       "  </thead>\n",
       "  <tbody>\n",
       "    <tr>\n",
       "      <th>0</th>\n",
       "      <td>2022-10-14</td>\n",
       "      <td>80.970001</td>\n",
       "      <td>80.989998</td>\n",
       "      <td>80.820000</td>\n",
       "      <td>80.839996</td>\n",
       "      <td>75.739861</td>\n",
       "      <td>5506000</td>\n",
       "    </tr>\n",
       "    <tr>\n",
       "      <th>1</th>\n",
       "      <td>2022-10-17</td>\n",
       "      <td>80.980003</td>\n",
       "      <td>80.989998</td>\n",
       "      <td>80.919998</td>\n",
       "      <td>80.930000</td>\n",
       "      <td>75.824181</td>\n",
       "      <td>4013800</td>\n",
       "    </tr>\n",
       "    <tr>\n",
       "      <th>2</th>\n",
       "      <td>2022-10-18</td>\n",
       "      <td>81.010002</td>\n",
       "      <td>81.019997</td>\n",
       "      <td>80.919998</td>\n",
       "      <td>80.970001</td>\n",
       "      <td>75.861656</td>\n",
       "      <td>7012000</td>\n",
       "    </tr>\n",
       "  </tbody>\n",
       "</table>\n",
       "</div>"
      ],
      "text/plain": [
       "         Date       Open       High        Low      Close  Adj Close   Volume\n",
       "0  2022-10-14  80.970001  80.989998  80.820000  80.839996  75.739861  5506000\n",
       "1  2022-10-17  80.980003  80.989998  80.919998  80.930000  75.824181  4013800\n",
       "2  2022-10-18  81.010002  81.019997  80.919998  80.970001  75.861656  7012000"
      ]
     },
     "execution_count": 25,
     "metadata": {},
     "output_type": "execute_result"
    }
   ],
   "source": [
    "df_shy.head(3)"
   ]
  },
  {
   "cell_type": "code",
   "execution_count": 26,
   "metadata": {},
   "outputs": [
    {
     "data": {
      "text/html": [
       "<div>\n",
       "<style scoped>\n",
       "    .dataframe tbody tr th:only-of-type {\n",
       "        vertical-align: middle;\n",
       "    }\n",
       "\n",
       "    .dataframe tbody tr th {\n",
       "        vertical-align: top;\n",
       "    }\n",
       "\n",
       "    .dataframe thead th {\n",
       "        text-align: right;\n",
       "    }\n",
       "</style>\n",
       "<table border=\"1\" class=\"dataframe\">\n",
       "  <thead>\n",
       "    <tr style=\"text-align: right;\">\n",
       "      <th></th>\n",
       "      <th>Date</th>\n",
       "      <th>Open</th>\n",
       "      <th>High</th>\n",
       "      <th>Low</th>\n",
       "      <th>Close</th>\n",
       "      <th>Adj Close</th>\n",
       "      <th>Volume</th>\n",
       "    </tr>\n",
       "  </thead>\n",
       "  <tbody>\n",
       "    <tr>\n",
       "      <th>0</th>\n",
       "      <td>2022-10-14</td>\n",
       "      <td>71.400002</td>\n",
       "      <td>71.720001</td>\n",
       "      <td>69.750000</td>\n",
       "      <td>70.169998</td>\n",
       "      <td>70.169998</td>\n",
       "      <td>2518900</td>\n",
       "    </tr>\n",
       "    <tr>\n",
       "      <th>1</th>\n",
       "      <td>2022-10-17</td>\n",
       "      <td>71.169998</td>\n",
       "      <td>71.480003</td>\n",
       "      <td>69.779999</td>\n",
       "      <td>70.129997</td>\n",
       "      <td>70.129997</td>\n",
       "      <td>3255400</td>\n",
       "    </tr>\n",
       "    <tr>\n",
       "      <th>2</th>\n",
       "      <td>2022-10-18</td>\n",
       "      <td>69.360001</td>\n",
       "      <td>69.779999</td>\n",
       "      <td>67.849998</td>\n",
       "      <td>68.699997</td>\n",
       "      <td>68.699997</td>\n",
       "      <td>3291200</td>\n",
       "    </tr>\n",
       "  </tbody>\n",
       "</table>\n",
       "</div>"
      ],
      "text/plain": [
       "         Date       Open       High        Low      Close  Adj Close   Volume\n",
       "0  2022-10-14  71.400002  71.720001  69.750000  70.169998  70.169998  2518900\n",
       "1  2022-10-17  71.169998  71.480003  69.779999  70.129997  70.129997  3255400\n",
       "2  2022-10-18  69.360001  69.779999  67.849998  68.699997  68.699997  3291200"
      ]
     },
     "execution_count": 26,
     "metadata": {},
     "output_type": "execute_result"
    }
   ],
   "source": [
    "df_uso.head(3)"
   ]
  },
  {
   "cell_type": "code",
   "execution_count": 27,
   "metadata": {},
   "outputs": [
    {
     "data": {
      "text/html": [
       "<div>\n",
       "<style scoped>\n",
       "    .dataframe tbody tr th:only-of-type {\n",
       "        vertical-align: middle;\n",
       "    }\n",
       "\n",
       "    .dataframe tbody tr th {\n",
       "        vertical-align: top;\n",
       "    }\n",
       "\n",
       "    .dataframe thead th {\n",
       "        text-align: right;\n",
       "    }\n",
       "</style>\n",
       "<table border=\"1\" class=\"dataframe\">\n",
       "  <thead>\n",
       "    <tr style=\"text-align: right;\">\n",
       "      <th></th>\n",
       "      <th>Date</th>\n",
       "      <th>Open</th>\n",
       "      <th>High</th>\n",
       "      <th>Low</th>\n",
       "      <th>Close</th>\n",
       "      <th>Adj Close</th>\n",
       "      <th>Volume</th>\n",
       "    </tr>\n",
       "  </thead>\n",
       "  <tbody>\n",
       "    <tr>\n",
       "      <th>0</th>\n",
       "      <td>2022-10-14</td>\n",
       "      <td>1288.048706</td>\n",
       "      <td>1339.744751</td>\n",
       "      <td>1285.378296</td>\n",
       "      <td>1297.422119</td>\n",
       "      <td>1297.422119</td>\n",
       "      <td>13113767755</td>\n",
       "    </tr>\n",
       "    <tr>\n",
       "      <th>1</th>\n",
       "      <td>2022-10-15</td>\n",
       "      <td>1297.305908</td>\n",
       "      <td>1300.745972</td>\n",
       "      <td>1268.468506</td>\n",
       "      <td>1274.871704</td>\n",
       "      <td>1274.871704</td>\n",
       "      <td>6798512624</td>\n",
       "    </tr>\n",
       "    <tr>\n",
       "      <th>2</th>\n",
       "      <td>2022-10-16</td>\n",
       "      <td>1275.005493</td>\n",
       "      <td>1312.634521</td>\n",
       "      <td>1275.005493</td>\n",
       "      <td>1306.296631</td>\n",
       "      <td>1306.296631</td>\n",
       "      <td>7491625206</td>\n",
       "    </tr>\n",
       "  </tbody>\n",
       "</table>\n",
       "</div>"
      ],
      "text/plain": [
       "         Date         Open         High          Low        Close  \\\n",
       "0  2022-10-14  1288.048706  1339.744751  1285.378296  1297.422119   \n",
       "1  2022-10-15  1297.305908  1300.745972  1268.468506  1274.871704   \n",
       "2  2022-10-16  1275.005493  1312.634521  1275.005493  1306.296631   \n",
       "\n",
       "     Adj Close       Volume  \n",
       "0  1297.422119  13113767755  \n",
       "1  1274.871704   6798512624  \n",
       "2  1306.296631   7491625206  "
      ]
     },
     "execution_count": 27,
     "metadata": {},
     "output_type": "execute_result"
    }
   ],
   "source": [
    "df_eth.head(3)"
   ]
  },
  {
   "cell_type": "code",
   "execution_count": 28,
   "metadata": {},
   "outputs": [
    {
     "data": {
      "text/html": [
       "<div>\n",
       "<style scoped>\n",
       "    .dataframe tbody tr th:only-of-type {\n",
       "        vertical-align: middle;\n",
       "    }\n",
       "\n",
       "    .dataframe tbody tr th {\n",
       "        vertical-align: top;\n",
       "    }\n",
       "\n",
       "    .dataframe thead th {\n",
       "        text-align: right;\n",
       "    }\n",
       "</style>\n",
       "<table border=\"1\" class=\"dataframe\">\n",
       "  <thead>\n",
       "    <tr style=\"text-align: right;\">\n",
       "      <th></th>\n",
       "      <th>Date</th>\n",
       "      <th>Open</th>\n",
       "      <th>High</th>\n",
       "      <th>Low</th>\n",
       "      <th>Close</th>\n",
       "      <th>Adj Close</th>\n",
       "      <th>Volume</th>\n",
       "    </tr>\n",
       "  </thead>\n",
       "  <tbody>\n",
       "    <tr>\n",
       "      <th>0</th>\n",
       "      <td>2022-10-14</td>\n",
       "      <td>74.580002</td>\n",
       "      <td>74.599998</td>\n",
       "      <td>74.279999</td>\n",
       "      <td>74.320000</td>\n",
       "      <td>70.391594</td>\n",
       "      <td>5242300</td>\n",
       "    </tr>\n",
       "    <tr>\n",
       "      <th>1</th>\n",
       "      <td>2022-10-17</td>\n",
       "      <td>74.470001</td>\n",
       "      <td>74.570000</td>\n",
       "      <td>74.400002</td>\n",
       "      <td>74.400002</td>\n",
       "      <td>70.467361</td>\n",
       "      <td>6324200</td>\n",
       "    </tr>\n",
       "    <tr>\n",
       "      <th>2</th>\n",
       "      <td>2022-10-18</td>\n",
       "      <td>74.470001</td>\n",
       "      <td>74.580002</td>\n",
       "      <td>74.389999</td>\n",
       "      <td>74.489998</td>\n",
       "      <td>70.552589</td>\n",
       "      <td>5549200</td>\n",
       "    </tr>\n",
       "  </tbody>\n",
       "</table>\n",
       "</div>"
      ],
      "text/plain": [
       "         Date       Open       High        Low      Close  Adj Close   Volume\n",
       "0  2022-10-14  74.580002  74.599998  74.279999  74.320000  70.391594  5242300\n",
       "1  2022-10-17  74.470001  74.570000  74.400002  74.400002  70.467361  6324200\n",
       "2  2022-10-18  74.470001  74.580002  74.389999  74.489998  70.552589  5549200"
      ]
     },
     "execution_count": 28,
     "metadata": {},
     "output_type": "execute_result"
    }
   ],
   "source": [
    "df_bsv.head(3)"
   ]
  },
  {
   "cell_type": "code",
   "execution_count": null,
   "metadata": {},
   "outputs": [],
   "source": []
  }
 ],
 "metadata": {
  "kernelspec": {
   "display_name": "env_finalp",
   "language": "python",
   "name": "python3"
  },
  "language_info": {
   "codemirror_mode": {
    "name": "ipython",
    "version": 3
   },
   "file_extension": ".py",
   "mimetype": "text/x-python",
   "name": "python",
   "nbconvert_exporter": "python",
   "pygments_lexer": "ipython3",
   "version": "3.11.10"
  }
 },
 "nbformat": 4,
 "nbformat_minor": 2
}
